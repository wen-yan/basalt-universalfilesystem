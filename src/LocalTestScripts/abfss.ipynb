{
 "cells": [
  {
   "cell_type": "code",
   "execution_count": null,
   "metadata": {
    "dotnet_interactive": {
     "language": "csharp"
    },
    "polyglot_notebook": {
     "kernelName": "csharp"
    }
   },
   "outputs": [
    {
     "data": {
      "text/html": [
       "<div><div></div><div></div><div><strong>Installed Packages</strong><ul><li><span>Azure.Identity, 1.13.2</span></li><li><span>Azure.Storage.Blobs, 12.23.0</span></li></ul></div></div>"
      ]
     },
     "metadata": {},
     "output_type": "display_data"
    }
   ],
   "source": [
    "#r \"nuget:Azure.Identity,1.13.2\"\n",
    "#r \"nuget:Azure.Storage.Blobs,12.23.0\""
   ]
  },
  {
   "cell_type": "code",
   "execution_count": null,
   "metadata": {},
   "outputs": [],
   "source": [
    "using Azure.Identity;\n",
    "using Azure.Storage;\n",
    "using Azure.Storage.Blobs;\n",
    "using Azure.Storage.Blobs.Models;\n",
    "using Azure.Storage.Blobs.Specialized;\n",
    "using System.IO;"
   ]
  },
  {
   "cell_type": "code",
   "execution_count": null,
   "metadata": {},
   "outputs": [],
   "source": [
    "Uri serviceUri = new Uri(\"http://localhost:10000/devstoreaccount1\");\n",
    "StorageSharedKeyCredential credential = new StorageSharedKeyCredential(\"devstoreaccount1\", \"Eby8vdM02xNOcqFlqUwJPLlmEtlCDXJ1OUzFT50uSRZ6IFsuFq2UVErCz4I6tq/K1SZFPTOtr/KBHBeksoGMGw==\");\n",
    "BlobServiceClient client = new BlobServiceClient(serviceUri, credential);"
   ]
  },
  {
   "cell_type": "code",
   "execution_count": null,
   "metadata": {},
   "outputs": [
    {
     "ename": "Error",
     "evalue": "Azure.RequestFailedException: The specified container already exists.\nRequestId:264ae688-b313-4813-82ef-826ef002097b\nTime:2025-02-24T01:36:43.317Z\r\nStatus: 409 (The specified container already exists.)\r\nErrorCode: ContainerAlreadyExists\r\n\r\nContent:\r\n<?xml version=\"1.0\" encoding=\"UTF-8\" standalone=\"yes\"?>\n<Error>\n  <Code>ContainerAlreadyExists</Code>\n  <Message>The specified container already exists.\nRequestId:264ae688-b313-4813-82ef-826ef002097b\nTime:2025-02-24T01:36:43.317Z</Message>\n</Error>\r\n\r\nHeaders:\r\nServer: Azurite-Blob/3.33.0\r\nx-ms-error-code: ContainerAlreadyExists\r\nx-ms-request-id: 264ae688-b313-4813-82ef-826ef002097b\r\nDate: Mon, 24 Feb 2025 01:36:43 GMT\r\nConnection: keep-alive\r\nKeep-Alive: REDACTED\r\nTransfer-Encoding: chunked\r\nContent-Type: application/xml\r\n\r\n   at Azure.Storage.Blobs.ContainerRestClient.CreateAsync(Nullable`1 timeout, IDictionary`2 metadata, Nullable`1 access, String defaultEncryptionScope, Nullable`1 preventEncryptionScopeOverride, CancellationToken cancellationToken)\r\n   at Azure.Storage.Blobs.BlobContainerClient.CreateInternal(PublicAccessType publicAccessType, IDictionary`2 metadata, BlobContainerEncryptionScopeOptions encryptionScopeOptions, Boolean async, CancellationToken cancellationToken, String operationName)\r\n   at Azure.Storage.Blobs.BlobContainerClient.CreateAsync(PublicAccessType publicAccessType, IDictionary`2 metadata, CancellationToken cancellationToken)\r\n   at Azure.Storage.Blobs.BlobServiceClient.CreateBlobContainerAsync(String blobContainerName, PublicAccessType publicAccessType, IDictionary`2 metadata, CancellationToken cancellationToken)\r\n   at Submission#9.<<Initialize>>d__0.MoveNext()\r\n--- End of stack trace from previous location ---\r\n   at Microsoft.CodeAnalysis.Scripting.ScriptExecutionState.RunSubmissionsAsync[TResult](ImmutableArray`1 precedingExecutors, Func`2 currentExecutor, StrongBox`1 exceptionHolderOpt, Func`2 catchExceptionOpt, CancellationToken cancellationToken)",
     "output_type": "error",
     "traceback": [
      "Azure.RequestFailedException: The specified container already exists.\n",
      "RequestId:264ae688-b313-4813-82ef-826ef002097b\n",
      "Time:2025-02-24T01:36:43.317Z\r\n",
      "Status: 409 (The specified container already exists.)\r\n",
      "ErrorCode: ContainerAlreadyExists\r\n",
      "\r\n",
      "Content:\r\n",
      "<?xml version=\"1.0\" encoding=\"UTF-8\" standalone=\"yes\"?>\n",
      "<Error>\n",
      "  <Code>ContainerAlreadyExists</Code>\n",
      "  <Message>The specified container already exists.\n",
      "RequestId:264ae688-b313-4813-82ef-826ef002097b\n",
      "Time:2025-02-24T01:36:43.317Z</Message>\n",
      "</Error>\r\n",
      "\r\n",
      "Headers:\r\n",
      "Server: Azurite-Blob/3.33.0\r\n",
      "x-ms-error-code: ContainerAlreadyExists\r\n",
      "x-ms-request-id: 264ae688-b313-4813-82ef-826ef002097b\r\n",
      "Date: Mon, 24 Feb 2025 01:36:43 GMT\r\n",
      "Connection: keep-alive\r\n",
      "Keep-Alive: REDACTED\r\n",
      "Transfer-Encoding: chunked\r\n",
      "Content-Type: application/xml\r\n",
      "\r\n",
      "   at Azure.Storage.Blobs.ContainerRestClient.CreateAsync(Nullable`1 timeout, IDictionary`2 metadata, Nullable`1 access, String defaultEncryptionScope, Nullable`1 preventEncryptionScopeOverride, CancellationToken cancellationToken)\r\n",
      "   at Azure.Storage.Blobs.BlobContainerClient.CreateInternal(PublicAccessType publicAccessType, IDictionary`2 metadata, BlobContainerEncryptionScopeOptions encryptionScopeOptions, Boolean async, CancellationToken cancellationToken, String operationName)\r\n",
      "   at Azure.Storage.Blobs.BlobContainerClient.CreateAsync(PublicAccessType publicAccessType, IDictionary`2 metadata, CancellationToken cancellationToken)\r\n",
      "   at Azure.Storage.Blobs.BlobServiceClient.CreateBlobContainerAsync(String blobContainerName, PublicAccessType publicAccessType, IDictionary`2 metadata, CancellationToken cancellationToken)\r\n",
      "   at Submission#9.<<Initialize>>d__0.MoveNext()\r\n",
      "--- End of stack trace from previous location ---\r\n",
      "   at Microsoft.CodeAnalysis.Scripting.ScriptExecutionState.RunSubmissionsAsync[TResult](ImmutableArray`1 precedingExecutors, Func`2 currentExecutor, StrongBox`1 exceptionHolderOpt, Func`2 catchExceptionOpt, CancellationToken cancellationToken)"
     ]
    }
   ],
   "source": [
    "// create container\n",
    "await client.CreateBlobContainerAsync(\"ufs-test-container\")"
   ]
  },
  {
   "cell_type": "code",
   "execution_count": null,
   "metadata": {},
   "outputs": [
    {
     "data": {
      "text/html": [
       "<details open=\"open\" class=\"dni-treeview\"><summary><span class=\"dni-code-hint\"><code>Azure.Storage.Blobs.BlobContainerClient</code></span></summary><div><table><thead><tr></tr></thead><tbody><tr><td>Uri</td><td><details class=\"dni-treeview\"><summary><span class=\"dni-code-hint\"><code>http://localhost:10000/devstoreaccount1/ufs-test-container</code></span></summary><div><table><thead><tr></tr></thead><tbody><tr><td>AbsolutePath</td><td><div class=\"dni-plaintext\"><pre>/devstoreaccount1/ufs-test-container</pre></div></td></tr><tr><td>AbsoluteUri</td><td><div class=\"dni-plaintext\"><pre>http://localhost:10000/devstoreaccount1/ufs-test-container</pre></div></td></tr><tr><td>LocalPath</td><td><div class=\"dni-plaintext\"><pre>/devstoreaccount1/ufs-test-container</pre></div></td></tr><tr><td>Authority</td><td><div class=\"dni-plaintext\"><pre>localhost:10000</pre></div></td></tr><tr><td>HostNameType</td><td><span>Dns</span></td></tr><tr><td>IsDefaultPort</td><td><div class=\"dni-plaintext\"><pre>False</pre></div></td></tr><tr><td>IsFile</td><td><div class=\"dni-plaintext\"><pre>False</pre></div></td></tr><tr><td>IsLoopback</td><td><div class=\"dni-plaintext\"><pre>True</pre></div></td></tr><tr><td>PathAndQuery</td><td><div class=\"dni-plaintext\"><pre>/devstoreaccount1/ufs-test-container</pre></div></td></tr><tr><td>Segments</td><td><div class=\"dni-plaintext\"><pre>[ /, devstoreaccount1/, ufs-test-container ]</pre></div></td></tr><tr><td>IsUnc</td><td><div class=\"dni-plaintext\"><pre>False</pre></div></td></tr><tr><td>Host</td><td><div class=\"dni-plaintext\"><pre>localhost</pre></div></td></tr><tr><td>Port</td><td><div class=\"dni-plaintext\"><pre>10000</pre></div></td></tr><tr><td>Query</td><td><div class=\"dni-plaintext\"><pre></pre></div></td></tr><tr><td>Fragment</td><td><div class=\"dni-plaintext\"><pre></pre></div></td></tr><tr><td>Scheme</td><td><div class=\"dni-plaintext\"><pre>http</pre></div></td></tr><tr><td>OriginalString</td><td><div class=\"dni-plaintext\"><pre>http://localhost:10000/devstoreaccount1/ufs-test-container</pre></div></td></tr><tr><td>DnsSafeHost</td><td><div class=\"dni-plaintext\"><pre>localhost</pre></div></td></tr><tr><td>IdnHost</td><td><div class=\"dni-plaintext\"><pre>localhost</pre></div></td></tr><tr><td>IsAbsoluteUri</td><td><div class=\"dni-plaintext\"><pre>True</pre></div></td></tr><tr><td>UserEscaped</td><td><div class=\"dni-plaintext\"><pre>False</pre></div></td></tr><tr><td>UserInfo</td><td><div class=\"dni-plaintext\"><pre></pre></div></td></tr></tbody></table></div></details></td></tr><tr><td>AccountName</td><td><div class=\"dni-plaintext\"><pre>devstoreaccount1</pre></div></td></tr><tr><td>Name</td><td><div class=\"dni-plaintext\"><pre>ufs-test-container</pre></div></td></tr><tr><td>CanGenerateSasUri</td><td><div class=\"dni-plaintext\"><pre>True</pre></div></td></tr></tbody></table></div></details><style>\r\n",
       ".dni-code-hint {\r\n",
       "    font-style: italic;\r\n",
       "    overflow: hidden;\r\n",
       "    white-space: nowrap;\r\n",
       "}\r\n",
       ".dni-treeview {\r\n",
       "    white-space: nowrap;\r\n",
       "}\r\n",
       ".dni-treeview td {\r\n",
       "    vertical-align: top;\r\n",
       "    text-align: start;\r\n",
       "}\r\n",
       "details.dni-treeview {\r\n",
       "    padding-left: 1em;\r\n",
       "}\r\n",
       "table td {\r\n",
       "    text-align: start;\r\n",
       "}\r\n",
       "table tr { \r\n",
       "    vertical-align: top; \r\n",
       "    margin: 0em 0px;\r\n",
       "}\r\n",
       "table tr td pre \r\n",
       "{ \r\n",
       "    vertical-align: top !important; \r\n",
       "    margin: 0em 0px !important;\r\n",
       "} \r\n",
       "table th {\r\n",
       "    text-align: start;\r\n",
       "}\r\n",
       "</style>"
      ]
     },
     "metadata": {},
     "output_type": "display_data"
    }
   ],
   "source": [
    "BlobContainerClient containerClient = client.GetBlobContainerClient(\"ufs-test-container\");\n",
    "containerClient"
   ]
  },
  {
   "cell_type": "code",
   "execution_count": null,
   "metadata": {},
   "outputs": [],
   "source": [
    "// add blobs\n",
    "string[] paths = new[]\n",
    "{\n",
    "    \"dir1/file1.txt\",\n",
    "    \"dir1/dir2/file2.txt\",\n",
    "    \"dir1/dir3/file3.txt\",\n",
    "    \"dir1/dir3/dir4/file4.txt\",\n",
    "    \"dir5/file5.txt\",\n",
    "    \"dir5/dir6/file6.txt\",\n",
    "    \n",
    "};\n",
    "\n",
    "foreach(string path in paths)\n",
    "{\n",
    "    using MemoryStream stream = new MemoryStream();\n",
    "    stream.WriteByte(1);\n",
    "\n",
    "    BlockBlobClient blockBlobClient = containerClient.GetBlockBlobClient(path);\n",
    "\n",
    "    using (Stream blobStream = await blockBlobClient.OpenWriteAsync(true))\n",
    "    {\n",
    "        stream.CopyTo(blobStream);\n",
    "    }\n",
    "}"
   ]
  },
  {
   "cell_type": "code",
   "execution_count": null,
   "metadata": {},
   "outputs": [
    {
     "data": {
      "text/html": [
       "<table><thead><tr><th><i>index</i></th><th>value</th></tr></thead><tbody><tr><td>0</td><td><details class=\"dni-treeview\"><summary><span class=\"dni-code-hint\"><code>Azure.Storage.Blobs.Models.BlobHierarchyItem</code></span></summary><div><table><thead><tr></tr></thead><tbody><tr><td>Prefix</td><td><div class=\"dni-plaintext\"><pre>dir1/dir2/</pre></div></td></tr><tr><td>Blob</td><td><div class=\"dni-plaintext\"><pre>&lt;null&gt;</pre></div></td></tr><tr><td>IsPrefix</td><td><div class=\"dni-plaintext\"><pre>True</pre></div></td></tr><tr><td>IsBlob</td><td><div class=\"dni-plaintext\"><pre>False</pre></div></td></tr></tbody></table></div></details></td></tr><tr><td>1</td><td><details class=\"dni-treeview\"><summary><span class=\"dni-code-hint\"><code>Azure.Storage.Blobs.Models.BlobHierarchyItem</code></span></summary><div><table><thead><tr></tr></thead><tbody><tr><td>Prefix</td><td><div class=\"dni-plaintext\"><pre>dir1/dir3/</pre></div></td></tr><tr><td>Blob</td><td><div class=\"dni-plaintext\"><pre>&lt;null&gt;</pre></div></td></tr><tr><td>IsPrefix</td><td><div class=\"dni-plaintext\"><pre>True</pre></div></td></tr><tr><td>IsBlob</td><td><div class=\"dni-plaintext\"><pre>False</pre></div></td></tr></tbody></table></div></details></td></tr><tr><td>2</td><td><details class=\"dni-treeview\"><summary><span class=\"dni-code-hint\"><code>Azure.Storage.Blobs.Models.BlobHierarchyItem</code></span></summary><div><table><thead><tr></tr></thead><tbody><tr><td>Prefix</td><td><div class=\"dni-plaintext\"><pre>&lt;null&gt;</pre></div></td></tr><tr><td>Blob</td><td><details class=\"dni-treeview\"><summary><span class=\"dni-code-hint\"><code>Azure.Storage.Blobs.Models.BlobItem</code></span></summary><div><table><thead><tr></tr></thead><tbody><tr><td>Name</td><td><div class=\"dni-plaintext\"><pre>dir1/file1.txt</pre></div></td></tr><tr><td>Deleted</td><td><div class=\"dni-plaintext\"><pre>False</pre></div></td></tr><tr><td>Snapshot</td><td><div class=\"dni-plaintext\"><pre>&lt;null&gt;</pre></div></td></tr><tr><td>VersionId</td><td><div class=\"dni-plaintext\"><pre>&lt;null&gt;</pre></div></td></tr><tr><td>IsLatestVersion</td><td><div class=\"dni-plaintext\"><pre>&lt;null&gt;</pre></div></td></tr><tr><td>Properties</td><td><details class=\"dni-treeview\"><summary><span class=\"dni-code-hint\"><code>Azure.Storage.Blobs.Models.BlobItemProperties</code></span></summary><div><table><thead><tr></tr></thead><tbody><tr><td>LastModified</td><td><span>2025-02-24 01:39:47Z</span></td></tr><tr><td>ContentLength</td><td><div class=\"dni-plaintext\"><pre>0</pre></div></td></tr><tr><td>ContentType</td><td><div class=\"dni-plaintext\"><pre>application/octet-stream</pre></div></td></tr><tr><td>ContentEncoding</td><td><div class=\"dni-plaintext\"><pre>&lt;null&gt;</pre></div></td></tr><tr><td>ContentLanguage</td><td><div class=\"dni-plaintext\"><pre>&lt;null&gt;</pre></div></td></tr><tr><td>ContentHash</td><td><div class=\"dni-plaintext\"><pre>&lt;null&gt;</pre></div></td></tr><tr><td>ContentDisposition</td><td><div class=\"dni-plaintext\"><pre>&lt;null&gt;</pre></div></td></tr><tr><td>CacheControl</td><td><div class=\"dni-plaintext\"><pre>&lt;null&gt;</pre></div></td></tr><tr><td>BlobSequenceNumber</td><td><div class=\"dni-plaintext\"><pre>&lt;null&gt;</pre></div></td></tr><tr><td>BlobType</td><td><span>Block</span></td></tr><tr><td>LeaseStatus</td><td><span>Unlocked</span></td></tr><tr><td>LeaseState</td><td><span>Available</span></td></tr><tr><td>LeaseDuration</td><td><div class=\"dni-plaintext\"><pre>&lt;null&gt;</pre></div></td></tr><tr><td>CopyId</td><td><div class=\"dni-plaintext\"><pre>&lt;null&gt;</pre></div></td></tr><tr><td>CopyStatus</td><td><div class=\"dni-plaintext\"><pre>&lt;null&gt;</pre></div></td></tr><tr><td>CopySource</td><td><div class=\"dni-plaintext\"><pre>&lt;null&gt;</pre></div></td></tr><tr><td>CopyProgress</td><td><div class=\"dni-plaintext\"><pre>&lt;null&gt;</pre></div></td></tr><tr><td>CopyStatusDescription</td><td><div class=\"dni-plaintext\"><pre>&lt;null&gt;</pre></div></td></tr><tr><td>ServerEncrypted</td><td><div class=\"dni-plaintext\"><pre>True</pre></div></td></tr><tr><td>IncrementalCopy</td><td><div class=\"dni-plaintext\"><pre>&lt;null&gt;</pre></div></td></tr><tr><td>DestinationSnapshot</td><td><div class=\"dni-plaintext\"><pre>&lt;null&gt;</pre></div></td></tr><tr><td>RemainingRetentionDays</td><td><div class=\"dni-plaintext\"><pre>&lt;null&gt;</pre></div></td></tr><tr><td>AccessTier</td><td><details class=\"dni-treeview\"><summary><span class=\"dni-code-hint\"><code>Hot</code></span></summary><div><table><thead><tr></tr></thead><tbody></tbody></table></div></details></td></tr><tr><td>AccessTierInferred</td><td><div class=\"dni-plaintext\"><pre>True</pre></div></td></tr><tr><td>ArchiveStatus</td><td><div class=\"dni-plaintext\"><pre>&lt;null&gt;</pre></div></td></tr><tr><td>CustomerProvidedKeySha256</td><td><div class=\"dni-plaintext\"><pre>&lt;null&gt;</pre></div></td></tr><tr><td>EncryptionScope</td><td><div class=\"dni-plaintext\"><pre>&lt;null&gt;</pre></div></td></tr><tr><td>TagCount</td><td><div class=\"dni-plaintext\"><pre>&lt;null&gt;</pre></div></td></tr><tr><td>ExpiresOn</td><td><div class=\"dni-plaintext\"><pre>&lt;null&gt;</pre></div></td></tr><tr><td>IsSealed</td><td><div class=\"dni-plaintext\"><pre>&lt;null&gt;</pre></div></td></tr><tr><td>RehydratePriority</td><td><div class=\"dni-plaintext\"><pre>&lt;null&gt;</pre></div></td></tr><tr><td>LastAccessedOn</td><td><div class=\"dni-plaintext\"><pre>&lt;null&gt;</pre></div></td></tr><tr><td>ETag</td><td><details class=\"dni-treeview\"><summary><span class=\"dni-code-hint\"><code>0x21D3920FA906A60</code></span></summary><div><table><thead><tr></tr></thead><tbody></tbody></table></div></details></td></tr><tr><td>CreatedOn</td><td><span>2025-02-24 01:39:47Z</span></td></tr><tr><td>CopyCompletedOn</td><td><div class=\"dni-plaintext\"><pre>&lt;null&gt;</pre></div></td></tr><tr><td>DeletedOn</td><td><div class=\"dni-plaintext\"><pre>&lt;null&gt;</pre></div></td></tr><tr><td>AccessTierChangedOn</td><td><span>2025-02-24 01:39:47Z</span></td></tr><tr><td>ImmutabilityPolicy</td><td><details class=\"dni-treeview\"><summary><span class=\"dni-code-hint\"><code>Azure.Storage.Blobs.Models.BlobImmutabilityPolicy</code></span></summary><div><table><thead><tr></tr></thead><tbody><tr><td>ExpiresOn</td><td><div class=\"dni-plaintext\"><pre>&lt;null&gt;</pre></div></td></tr><tr><td>PolicyMode</td><td><div class=\"dni-plaintext\"><pre>&lt;null&gt;</pre></div></td></tr></tbody></table></div></details></td></tr><tr><td>HasLegalHold</td><td><div class=\"dni-plaintext\"><pre>False</pre></div></td></tr></tbody></table></div></details></td></tr><tr><td>Metadata</td><td><i>(empty)</i></td></tr><tr><td>Tags</td><td><div class=\"dni-plaintext\"><pre>&lt;null&gt;</pre></div></td></tr><tr><td>ObjectReplicationSourceProperties</td><td><div class=\"dni-plaintext\"><pre>&lt;null&gt;</pre></div></td></tr><tr><td>HasVersionsOnly</td><td><div class=\"dni-plaintext\"><pre>&lt;null&gt;</pre></div></td></tr></tbody></table></div></details></td></tr><tr><td>IsPrefix</td><td><div class=\"dni-plaintext\"><pre>False</pre></div></td></tr><tr><td>IsBlob</td><td><div class=\"dni-plaintext\"><pre>True</pre></div></td></tr></tbody></table></div></details></td></tr></tbody></table><style>\r\n",
       ".dni-code-hint {\r\n",
       "    font-style: italic;\r\n",
       "    overflow: hidden;\r\n",
       "    white-space: nowrap;\r\n",
       "}\r\n",
       ".dni-treeview {\r\n",
       "    white-space: nowrap;\r\n",
       "}\r\n",
       ".dni-treeview td {\r\n",
       "    vertical-align: top;\r\n",
       "    text-align: start;\r\n",
       "}\r\n",
       "details.dni-treeview {\r\n",
       "    padding-left: 1em;\r\n",
       "}\r\n",
       "table td {\r\n",
       "    text-align: start;\r\n",
       "}\r\n",
       "table tr { \r\n",
       "    vertical-align: top; \r\n",
       "    margin: 0em 0px;\r\n",
       "}\r\n",
       "table tr td pre \r\n",
       "{ \r\n",
       "    vertical-align: top !important; \r\n",
       "    margin: 0em 0px !important;\r\n",
       "} \r\n",
       "table th {\r\n",
       "    text-align: start;\r\n",
       "}\r\n",
       "</style>"
      ]
     },
     "metadata": {},
     "output_type": "display_data"
    }
   ],
   "source": [
    "// list blobs\n",
    "containerClient.GetBlobsByHierarchy(prefix: \"dir1/\", delimiter: \"/\")"
   ]
  },
  {
   "cell_type": "code",
   "execution_count": null,
   "metadata": {},
   "outputs": [],
   "source": [
    "\n"
   ]
  }
 ],
 "metadata": {
  "kernelspec": {
   "display_name": ".NET (C#)",
   "language": "C#",
   "name": ".net-csharp"
  },
  "polyglot_notebook": {
   "kernelInfo": {
    "defaultKernelName": "csharp",
    "items": [
     {
      "aliases": [],
      "languageName": "csharp",
      "name": "csharp"
     }
    ]
   }
  }
 },
 "nbformat": 4,
 "nbformat_minor": 2
}
