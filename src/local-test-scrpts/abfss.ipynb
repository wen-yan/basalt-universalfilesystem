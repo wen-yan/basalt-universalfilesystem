{
 "cells": [
  {
   "cell_type": "code",
   "execution_count": null,
   "metadata": {
    "dotnet_interactive": {
     "language": "csharp"
    },
    "polyglot_notebook": {
     "kernelName": "csharp"
    }
   },
   "outputs": [],
   "source": [
    "#r \"nuget:Azure.Identity,1.13.2\"\n",
    "#r \"nuget:Azure.Storage.Blobs,12.23.0\""
   ]
  },
  {
   "cell_type": "code",
   "execution_count": null,
   "metadata": {},
   "outputs": [],
   "source": [
    "using Azure.Identity;\n",
    "using Azure.Storage;\n",
    "using Azure.Storage.Blobs;\n",
    "using Azure.Storage.Blobs.Models;\n",
    "using Azure.Storage.Blobs.Specialized;\n",
    "using System.IO;"
   ]
  },
  {
   "cell_type": "code",
   "execution_count": null,
   "metadata": {},
   "outputs": [],
   "source": [
    "Uri serviceUri = new Uri(\"http://localhost:10000/devstoreaccount1\");\n",
    "StorageSharedKeyCredential credential = new StorageSharedKeyCredential(\"devstoreaccount1\", \"Eby8vdM02xNOcqFlqUwJPLlmEtlCDXJ1OUzFT50uSRZ6IFsuFq2UVErCz4I6tq/K1SZFPTOtr/KBHBeksoGMGw==\");\n",
    "BlobServiceClient client = new BlobServiceClient(serviceUri, credential);"
   ]
  },
  {
   "cell_type": "code",
   "execution_count": null,
   "metadata": {},
   "outputs": [],
   "source": [
    "// create container\n",
    "await client.CreateBlobContainerAsync(\"ufs-test-container\")"
   ]
  },
  {
   "cell_type": "code",
   "execution_count": null,
   "metadata": {},
   "outputs": [],
   "source": [
    "BlobContainerClient containerClient = client.GetBlobContainerClient(\"ufs-test-container\");\n",
    "containerClient"
   ]
  },
  {
   "cell_type": "code",
   "execution_count": null,
   "metadata": {},
   "outputs": [],
   "source": [
    "// add blobs\n",
    "string[] paths = new[]\n",
    "{\n",
    "    \"dir1/file1.txt\",\n",
    "    \"dir1/dir2/file2.txt\",\n",
    "    \"dir1/dir3/file3.txt\",\n",
    "    \"dir1/dir3/dir4/file4.txt\",\n",
    "    \"dir5/file5.txt\",\n",
    "    \"dir5/dir6/file6.txt\",\n",
    "    \n",
    "};\n",
    "\n",
    "foreach(string path in paths)\n",
    "{\n",
    "    using MemoryStream stream = new MemoryStream();\n",
    "    stream.WriteByte(1);\n",
    "\n",
    "    BlockBlobClient blockBlobClient = containerClient.GetBlockBlobClient(path);\n",
    "\n",
    "    using (Stream blobStream = await blockBlobClient.OpenWriteAsync(true))\n",
    "    {\n",
    "        stream.CopyTo(blobStream);\n",
    "    }\n",
    "}"
   ]
  },
  {
   "cell_type": "code",
   "execution_count": null,
   "metadata": {},
   "outputs": [],
   "source": [
    "// list blobs\n",
    "containerClient.GetBlobsByHierarchy(prefix: \"dir1/\", delimiter: \"/\")"
   ]
  },
  {
   "cell_type": "code",
   "execution_count": null,
   "metadata": {},
   "outputs": [],
   "source": [
    "\n"
   ]
  }
 ],
 "metadata": {
  "kernelspec": {
   "display_name": ".NET (C#)",
   "language": "C#",
   "name": ".net-csharp"
  },
  "polyglot_notebook": {
   "kernelInfo": {
    "defaultKernelName": "csharp",
    "items": [
     {
      "aliases": [],
      "languageName": "csharp",
      "name": "csharp"
     }
    ]
   }
  }
 },
 "nbformat": 4,
 "nbformat_minor": 2
}
